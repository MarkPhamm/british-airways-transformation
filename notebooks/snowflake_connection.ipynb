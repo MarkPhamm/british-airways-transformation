{
 "cells": [
  {
   "cell_type": "code",
   "execution_count": 25,
   "metadata": {},
   "outputs": [],
   "source": [
    "from snowflake import connector\n",
    "import pathlib\n",
    "from dotenv import dotenv_values\n",
    "import pandas as pd\n",
    "from sqlalchemy import create_engine\n",
    "import os"
   ]
  },
  {
   "cell_type": "code",
   "execution_count": 27,
   "metadata": {},
   "outputs": [],
   "source": [
    "# Get the parent directory of the current working directory\n",
    "script_path = pathlib.Path.cwd().parent\n",
    "config = dotenv_values(f\"{script_path}/configuration.env\")"
   ]
  },
  {
   "cell_type": "code",
   "execution_count": 28,
   "metadata": {},
   "outputs": [],
   "source": [
    "# Create the connection URL with proper formatting\n",
    "connection_url = (\n",
    "    f\"snowflake://{config.get('snowflake_user')}:\"\n",
    "    f\"{config.get('snowflake_password')}@\"\n",
    "    f\"{config.get('snowflake_account')}/\"\n",
    "    f\"{config.get('snowflake_database')}/\"\n",
    "    f\"{config.get('snowflake_schema')}?\"\n",
    "    f\"warehouse={config.get('snowflake_warehouse')}&\"\n",
    "    f\"role={config.get('snowflake_role')}\"\n",
    ")\n",
    "\n",
    "engine = create_engine(connection_url)"
   ]
  },
  {
   "cell_type": "code",
   "execution_count": 29,
   "metadata": {},
   "outputs": [
    {
     "name": "stdout",
     "output_type": "stream",
     "text": [
      "   id date_review  day_review month_review  month_review_num  year_review  \\\n",
      "0   0  2025-04-03           3        April                 4         2025   \n",
      "1   1  2025-03-31          31        March                 3         2025   \n",
      "2   2  2025-03-19          19        March                 3         2025   \n",
      "3   3  2025-03-16          16        March                 3         2025   \n",
      "4   4  2025-03-16          16        March                 3         2025   \n",
      "\n",
      "   verified           name month_fly  month_fly_num  ...  seat_comfort  \\\n",
      "0     False    Robert Bone     April            4.0  ...           5.0   \n",
      "1     False        J Jones     March            3.0  ...           4.0   \n",
      "2      True       J Meares     March            3.0  ...           5.0   \n",
      "3      True  Luis De Jesus  December           12.0  ...           1.0   \n",
      "4      True  Luis De Jesus   January            1.0  ...           1.0   \n",
      "\n",
      "  cabin_serv food ground_service wifi money_value score experience  \\\n",
      "0        5.0  5.0            4.0  3.0           4   4.4       Good   \n",
      "1        5.0  5.0            4.0  NaN           4   4.5       Good   \n",
      "2        2.0  5.0            4.0  1.0           4   3.4       Good   \n",
      "3        1.0  NaN            1.0  NaN           1   1.0       Poor   \n",
      "4        1.0  1.0            5.0  NaN           1   2.0       Poor   \n",
      "\n",
      "  recommended                                             review  \n",
      "0        True  LHR T5 BA Gold Wing worked well. Pleasant chec...  \n",
      "1        True  Very good service on this route BA2710 30th Ma...  \n",
      "2        True  Flight mainly let down by a disagreeable fligh...  \n",
      "3       False  Another awful experience by British Airways. T...  \n",
      "4       False  The service was rude, full of attitude to me, ...  \n",
      "\n",
      "[5 rows x 32 columns]\n"
     ]
    }
   ],
   "source": [
    "# Load data with pandas\n",
    "table_name = \"PROCESSED_DATA_DEPRECATED\"\n",
    "query = f\"SELECT * FROM {table_name};\"\n",
    "df = pd.read_sql(query, engine)\n",
    "\n",
    "print(df.head())"
   ]
  }
 ],
 "metadata": {
  "kernelspec": {
   "display_name": ".venv",
   "language": "python",
   "name": "python3"
  },
  "language_info": {
   "codemirror_mode": {
    "name": "ipython",
    "version": 3
   },
   "file_extension": ".py",
   "mimetype": "text/x-python",
   "name": "python",
   "nbconvert_exporter": "python",
   "pygments_lexer": "ipython3",
   "version": "3.12.9"
  }
 },
 "nbformat": 4,
 "nbformat_minor": 2
}
